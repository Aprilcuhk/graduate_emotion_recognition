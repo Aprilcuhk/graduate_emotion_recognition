{
 "cells": [
  {
   "cell_type": "code",
   "execution_count": 1,
   "metadata": {},
   "outputs": [
    {
     "name": "stderr",
     "output_type": "stream",
     "text": [
      "C:\\Users\\huiqi\\Anaconda3\\lib\\site-packages\\h5py\\__init__.py:36: FutureWarning: Conversion of the second argument of issubdtype from `float` to `np.floating` is deprecated. In future, it will be treated as `np.float64 == np.dtype(float).type`.\n",
      "  from ._conv import register_converters as _register_converters\n",
      "Using TensorFlow backend.\n"
     ]
    }
   ],
   "source": [
    "import os\n",
    "import cv2\n",
    "import numpy as np\n",
    "from PIL import Image\n",
    "from keras.utils import to_categorical\n",
    "from keras.models import Model, Sequential\n",
    "from sklearn.utils import shuffle\n",
    "from sklearn.model_selection import train_test_split\n",
    "import h5py\n",
    "from matplotlib import pyplot as plt\n",
    "from PIL import Image\n",
    "from time import time\n",
    "import logging#程序进展信息\n",
    "import matplotlib.pyplot as plt\n",
    "from sklearn.model_selection import train_test_split#分割数据集\n",
    "from sklearn.model_selection import GridSearchCV\n",
    "from sklearn.metrics import classification_report\n",
    "from sklearn.metrics import confusion_matrix\n",
    "from sklearn.decomposition import RandomizedPCA\n",
    "from sklearn.decomposition import PCA\n",
    "from sklearn.svm import SVC"
   ]
  },
  {
   "cell_type": "code",
   "execution_count": 2,
   "metadata": {},
   "outputs": [],
   "source": [
    "ck_data = h5py.File('./CK_data.h5', 'r', driver='core')\n",
    "X_data = np.expand_dims(np.asarray(ck_data['data_pixel']), axis=-1)\n",
    "X_data = X_data.reshape((981,48*48))\n",
    "y_data = np.asarray(ck_data['data_label'])\n",
    "y_data = to_categorical(y_data)\n",
    "n_classes = y_data.shape[1] #列维数"
   ]
  },
  {
   "cell_type": "code",
   "execution_count": 3,
   "metadata": {},
   "outputs": [
    {
     "name": "stdout",
     "output_type": "stream",
     "text": [
      "<HDF5 file \"CK_data.h5\" (mode r)>\n"
     ]
    }
   ],
   "source": [
    "print(ck_data)"
   ]
  },
  {
   "cell_type": "code",
   "execution_count": 4,
   "metadata": {},
   "outputs": [
    {
     "name": "stdout",
     "output_type": "stream",
     "text": [
      "[[ 24  10  13 ... 150 153 156]\n",
      " [ 17  10  16 ... 151 153 156]\n",
      " [ 27  13  10 ... 148 152 156]\n",
      " ...\n",
      " [196 142 167 ...  59  56  42]\n",
      " [196 143 168 ...  59  56  41]\n",
      " [198 125 179 ...  59  54  40]]\n"
     ]
    }
   ],
   "source": [
    "print(X_data)"
   ]
  },
  {
   "cell_type": "code",
   "execution_count": 5,
   "metadata": {},
   "outputs": [
    {
     "name": "stdout",
     "output_type": "stream",
     "text": [
      "[[1. 0. 0. ... 0. 0. 0.]\n",
      " [1. 0. 0. ... 0. 0. 0.]\n",
      " [1. 0. 0. ... 0. 0. 0.]\n",
      " ...\n",
      " [0. 0. 0. ... 0. 0. 1.]\n",
      " [0. 0. 0. ... 0. 0. 1.]\n",
      " [0. 0. 0. ... 0. 0. 1.]]\n"
     ]
    }
   ],
   "source": [
    "print(y_data)"
   ]
  },
  {
   "cell_type": "code",
   "execution_count": 6,
   "metadata": {},
   "outputs": [
    {
     "name": "stdout",
     "output_type": "stream",
     "text": [
      "7\n"
     ]
    }
   ],
   "source": [
    "print(n_classes)"
   ]
  },
  {
   "cell_type": "code",
   "execution_count": 7,
   "metadata": {},
   "outputs": [
    {
     "name": "stdout",
     "output_type": "stream",
     "text": [
      "981\n"
     ]
    }
   ],
   "source": [
    "print(y_data.shape[0])"
   ]
  },
  {
   "cell_type": "code",
   "execution_count": 8,
   "metadata": {},
   "outputs": [],
   "source": [
    "X_train, X_validation, y_train, y_validation = train_test_split(X_data, y_data, test_size=0.2)"
   ]
  },
  {
   "cell_type": "code",
   "execution_count": 9,
   "metadata": {},
   "outputs": [
    {
     "name": "stdout",
     "output_type": "stream",
     "text": [
      "Training:  (784, 2304)\n"
     ]
    }
   ],
   "source": [
    "print('Training: ',X_train.shape)"
   ]
  },
  {
   "cell_type": "code",
   "execution_count": 10,
   "metadata": {},
   "outputs": [
    {
     "name": "stdout",
     "output_type": "stream",
     "text": [
      "Validation:  (197, 2304)\n"
     ]
    }
   ],
   "source": [
    "print('Validation: ',X_validation.shape)"
   ]
  },
  {
   "cell_type": "code",
   "execution_count": 11,
   "metadata": {},
   "outputs": [],
   "source": [
    "#使用主成分分析(PCA)降维\n",
    "n_components = 10\n",
    "#因为特征值维度比较高，所以需要降低维度，提取特征\n",
    "pca =PCA(svd_solver='randomized',n_components=n_components,whiten=True).fit(X_train)\n",
    "#得到训练集投影系数\n",
    "X_train_pca = pca.transform(X_train)\n",
    "#得到测试集投影系数\n",
    "X_val_pca = pca.transform(X_validation) "
   ]
  },
  {
   "cell_type": "code",
   "execution_count": 12,
   "metadata": {},
   "outputs": [
    {
     "name": "stdout",
     "output_type": "stream",
     "text": [
      "[[ 1.32769486  2.52051464  0.42113607 ...  0.41501506  1.03336454\n",
      "  -1.34981253]\n",
      " [-1.50484225  1.37503229  0.57363848 ... -0.02658795 -0.01302682\n",
      "  -0.4186663 ]\n",
      " [-0.83420981  0.15712091 -1.60240034 ...  0.51553633  0.18900149\n",
      "  -0.24329886]\n",
      " ...\n",
      " [ 0.07484525  0.65804402 -0.39022781 ...  1.04774147  1.49154894\n",
      "  -0.49038821]\n",
      " [-1.11548546 -0.74433681  1.45500605 ... -0.6180308  -0.77045129\n",
      "  -1.57420821]\n",
      " [ 1.46485189 -0.90790322  0.18559117 ...  0.32377644  1.80896789\n",
      "  -0.4886464 ]]\n"
     ]
    }
   ],
   "source": [
    "print(X_train_pca)"
   ]
  },
  {
   "cell_type": "code",
   "execution_count": 13,
   "metadata": {},
   "outputs": [
    {
     "name": "stdout",
     "output_type": "stream",
     "text": [
      "[[-0.04828533  0.52339603 -0.69507794 ...  0.60949706 -0.51886347\n",
      "  -0.68884163]\n",
      " [-0.94672954  0.30122914 -1.04467779 ... -1.40184702 -0.49374204\n",
      "  -0.20325135]\n",
      " [-0.66843241  0.55528867  0.63875851 ...  0.21904689 -0.94263777\n",
      "   0.16129622]\n",
      " ...\n",
      " [-0.02060361  0.69811282  0.6369828  ... -0.07940815 -0.961717\n",
      "   0.11971262]\n",
      " [-0.87259561 -0.08399892 -0.99156632 ... -0.44448481 -0.29359552\n",
      "  -0.63547652]\n",
      " [ 0.26411482  0.66817852  0.14539679 ...  0.28403177  0.58821924\n",
      "  -1.73825726]]\n"
     ]
    }
   ],
   "source": [
    "print(X_val_pca)"
   ]
  },
  {
   "cell_type": "code",
   "execution_count": 14,
   "metadata": {},
   "outputs": [
    {
     "name": "stdout",
     "output_type": "stream",
     "text": [
      "[[200 200 200 ... 191 191 191]\n",
      " [193 106  36 ... 120 120 123]\n",
      " [100 103  76 ...  76  77  76]\n",
      " ...\n",
      " [ 87  88  88 ...  91  91  90]\n",
      " [190 195 171 ...  63  65  62]\n",
      " [ 24  25  27 ...  34  34  33]]\n"
     ]
    }
   ],
   "source": [
    "print(X_train)"
   ]
  },
  {
   "cell_type": "code",
   "execution_count": 15,
   "metadata": {},
   "outputs": [],
   "source": [
    "eigenfaces = pca.components_.reshape((n_components, 48, 48))"
   ]
  },
  {
   "cell_type": "code",
   "execution_count": 19,
   "metadata": {},
   "outputs": [],
   "source": [
    "def plot_gallery(images, titles, h, w, n_row=3, n_col=3):\n",
    "    \"\"\"Helper function to plot a gallery of portraits\"\"\"\n",
    "    plt.figure(figsize=(1.8 * n_col, 2.4 * n_row))\n",
    "    plt.subplots_adjust(bottom=0, left=.01, right=.99, top=.90, hspace=.35)\n",
    "    for i in range(n_row * n_col):\n",
    "        plt.subplot(n_row, n_col, i + 1)\n",
    "        plt.imshow(images[i].reshape((h, w)), cmap=plt.cm.gray)\n",
    "        plt.title(titles[i], size=12)\n",
    "        plt.xticks(())\n",
    "        plt.yticks(())"
   ]
  },
  {
   "cell_type": "code",
   "execution_count": 20,
   "metadata": {},
   "outputs": [],
   "source": [
    "eigenface_titles = [\"eigenface %d\" % i for i in range(eigenfaces.shape[0])]"
   ]
  },
  {
   "cell_type": "code",
   "execution_count": 21,
   "metadata": {},
   "outputs": [
    {
     "data": {
      "image/png": "[encoded data removed]",
      "text/plain": [
       "<Figure size 388.8x518.4 with 9 Axes>"
      ]
     },
     "metadata": {},
     "output_type": "display_data"
    }
   ],
   "source": [
    "plot_gallery(eigenfaces, eigenface_titles, 48, 48)"
   ]
  },
  {
   "cell_type": "code",
   "execution_count": 22,
   "metadata": {},
   "outputs": [],
   "source": [
    "plt.show()"
   ]
  },
  {
   "cell_type": "code",
   "execution_count": 23,
   "metadata": {},
   "outputs": [],
   "source": [
    "y_train_ = np.argmax(y_train, axis=-1)"
   ]
  },
  {
   "cell_type": "code",
   "execution_count": 24,
   "metadata": {},
   "outputs": [
    {
     "data": {
      "text/plain": [
       "(784,)"
      ]
     },
     "execution_count": 24,
     "metadata": {},
     "output_type": "execute_result"
    }
   ],
   "source": [
    "y_train_.shape"
   ]
  },
  {
   "cell_type": "code",
   "execution_count": 25,
   "metadata": {},
   "outputs": [
    {
     "name": "stdout",
     "output_type": "stream",
     "text": [
      "Fitting the classifier to the training set\n",
      "done in 3.952s\n",
      "Best estimator found by grid search:\n",
      "SVC(C=1000.0, cache_size=200, class_weight='balanced', coef0=0.0,\n",
      "  decision_function_shape='ovr', degree=3, gamma=0.1, kernel='rbf',\n",
      "  max_iter=-1, probability=False, random_state=None, shrinking=True,\n",
      "  tol=0.001, verbose=False)\n"
     ]
    }
   ],
   "source": [
    "#训练SVM分类器\n",
    "print(\"Fitting the classifier to the training set\")\n",
    "t0 = time()\n",
    "param_grid = {'C': [1e3, 5e3, 1e4, 5e4, 1e5],\n",
    "              'gamma': [0.0001, 0.0005, 0.001, 0.005, 0.01, 0.1], }\n",
    "clf = GridSearchCV(SVC(kernel='rbf', class_weight='balanced'), param_grid)\n",
    "#class_weight='balanced'表示调整各类别权重，权重与该类中样本数成反比，\n",
    "#防止模型过于拟合某个样本数量过大的类\n",
    "clf = clf.fit(X_train_pca, y_train_)\n",
    "print(\"done in %0.3fs\" % (time() - t0))\n",
    "print(\"Best estimator found by grid search:\")\n",
    "print(clf.best_estimator_)"
   ]
  },
  {
   "cell_type": "code",
   "execution_count": 26,
   "metadata": {},
   "outputs": [
    {
     "name": "stdout",
     "output_type": "stream",
     "text": [
      "Predicting people's names on the test set\n",
      "done in 0.003s\n",
      "             precision    recall  f1-score   support\n",
      "\n",
      "          0       0.91      0.91      0.91        33\n",
      "          1       0.85      0.92      0.88        37\n",
      "          2       1.00      0.80      0.89        15\n",
      "          3       1.00      1.00      1.00        44\n",
      "          4       1.00      1.00      1.00        12\n",
      "          5       1.00      1.00      1.00        42\n",
      "          6       1.00      1.00      1.00        14\n",
      "\n",
      "avg / total       0.96      0.95      0.95       197\n",
      "\n",
      "[[30  3  0  0  0  0  0]\n",
      " [ 3 34  0  0  0  0  0]\n",
      " [ 0  3 12  0  0  0  0]\n",
      " [ 0  0  0 44  0  0  0]\n",
      " [ 0  0  0  0 12  0  0]\n",
      " [ 0  0  0  0  0 42  0]\n",
      " [ 0  0  0  0  0  0 14]]\n"
     ]
    }
   ],
   "source": [
    "#验证\n",
    "print(\"Predicting people's names on the test set\")\n",
    "t0 = time()\n",
    "y_pred = clf.predict(X_val_pca)\n",
    "print(\"done in %0.3fs\" % (time() - t0))\n",
    "y_val = np.argmax(y_validation, axis=-1)\n",
    "print(classification_report(y_val, y_pred))\n",
    "print(confusion_matrix(y_val, y_pred, labels=range(n_classes)))"
   ]
  },
  {
   "cell_type": "code",
   "execution_count": null,
   "metadata": {},
   "outputs": [],
   "source": []
  }
 ],
 "metadata": {
  "kernelspec": {
   "display_name": "Python 3",
   "language": "python",
   "name": "python3"
  },
  "language_info": {
   "codemirror_mode": {
    "name": "ipython",
    "version": 3
   },
   "file_extension": ".py",
   "mimetype": "text/x-python",
   "name": "python",
   "nbconvert_exporter": "python",
   "pygments_lexer": "ipython3",
   "version": "3.6.5"
  }
 },
 "nbformat": 4,
 "nbformat_minor": 2
}
